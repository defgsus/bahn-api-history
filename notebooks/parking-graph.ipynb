{
 "cells": [
  {
   "cell_type": "code",
   "execution_count": null,
   "id": "a7c81e45",
   "metadata": {},
   "outputs": [],
   "source": [
    "import sys\n",
    "sys.path.append(\"..\")"
   ]
  },
  {
   "cell_type": "code",
   "execution_count": null,
   "id": "e4c069b0",
   "metadata": {},
   "outputs": [],
   "source": [
    "import pandas as pd\n",
    "import numpy as np\n",
    "import plotly.express as px\n",
    "from plotly.subplots import make_subplots\n",
    "pd.options.plotting.backend = \"plotly\"\n",
    "\n",
    "from src.parking import *"
   ]
  },
  {
   "cell_type": "code",
   "execution_count": null,
   "id": "2d273e38",
   "metadata": {},
   "outputs": [],
   "source": [
    "# get all relevant snapshots data\n",
    "df_all = parking_dataframe(per_snapshot=True, with_name=True)\n",
    "df_all[\"week\"] = df_all.index.get_level_values(\"date\").strftime(\"%Y-%W\")\n",
    "id_2_name = {t[1]: t[2] for t in df_all.index if isinstance(t[2], str)}\n",
    "# get median capacity per id\n",
    "id_2_capacity = df_all[\"capacity\"].groupby(\"id\").median().replace(np.nan, 0).astype(int).to_dict()\n",
    "#df_all"
   ]
  },
  {
   "cell_type": "code",
   "execution_count": null,
   "id": "f2b8863c",
   "metadata": {},
   "outputs": [],
   "source": [
    "# convert \"category\" to a number \n",
    "MAPPING = {1.: 5, 2.: 15, 3.: 35, 4.: 55}\n",
    "df_all[\"num_free\"] = df_all[\"category\"].map(lambda c: MAPPING.get(c))\n",
    "#df_all"
   ]
  },
  {
   "cell_type": "code",
   "execution_count": null,
   "id": "f9fcd3bc",
   "metadata": {},
   "outputs": [],
   "source": [
    "# add \"mean_capacity\" per week to each row\n",
    "mean_cap = (\n",
    "    pd.DataFrame(df_all[[\"week\", \"capacity\"]]).reset_index().set_index([\"date\", \"id\", \"week\"]).unstack(\"id\")\n",
    "    .groupby(\"week\").median()\n",
    "    .stack(\"id\")\n",
    ")\n",
    "mean_lookup = mean_cap[\"capacity\"].to_dict()\n",
    "df = df_all.reset_index().set_index([\"week\", \"id\"])\n",
    "df_all[\"mean_capacity\"] = df.index.map(lambda i: mean_lookup.get(i, np.nan))\n",
    "df_all"
   ]
  },
  {
   "cell_type": "code",
   "execution_count": null,
   "id": "778b15a1",
   "metadata": {},
   "outputs": [],
   "source": [
    "# get a fixed color for each space ID\n",
    "id_2_color = {\n",
    "    n: f\"#{hashlib.md5(n[:6].encode('utf-8')).hexdigest()[:6]}\"\n",
    "    for n in sorted(df_all.index.get_level_values(\"id\").unique())\n",
    "}\n",
    "id_2_color[\"all\"] = \"#000000\""
   ]
  },
  {
   "cell_type": "code",
   "execution_count": null,
   "id": "899ba953",
   "metadata": {},
   "outputs": [],
   "source": [
    "# number of listed spaces per day\n",
    "# df_all[\"listed\"].unstack(\"id\").resample(\"1d\", level=\"date\").sum().clip(0, 1).sum(axis=1).plot.bar()"
   ]
  },
  {
   "cell_type": "markdown",
   "id": "171cfe8c",
   "metadata": {},
   "source": [
    "# num listed, num valid, num \"active\""
   ]
  },
  {
   "cell_type": "code",
   "execution_count": null,
   "id": "65ad6c5c",
   "metadata": {},
   "outputs": [],
   "source": [
    "# num listed and num valid\n",
    "RS = \"1d\"\n",
    "df = df_all.droplevel(\"name\")[[\"listed\", \"valid\"]].unstack(\"id\")\n",
    "df = df.resample(RS).mean().groupby(level=0, axis=1).sum()#.iloc[1:].plot()#.bar(barmode=\"group\")\n",
    "df_act = df_all[\"category\"].unstack(\"id\").resample(\"1h\", level=\"date\").mean().diff().resample(RS).mean()\n",
    "df_act = (df_act != 0).replace(np.nan, 0).astype(int).sum(axis=1)\n",
    "df[\"active\"] = df_act\n",
    "df.iloc[1:-1].plot(\n",
    "    title=\"Number of listed/valid/active parking lots per day\",\n",
    "    labels={\"value\": \"Number of spaces\", \"variable\": \"category\"},\n",
    ")"
   ]
  },
  {
   "cell_type": "markdown",
   "id": "ce55d8cc",
   "metadata": {},
   "source": [
    "## mean category per id"
   ]
  },
  {
   "cell_type": "code",
   "execution_count": null,
   "id": "cda2a413",
   "metadata": {
    "scrolled": false
   },
   "outputs": [],
   "source": [
    "import hashlib\n",
    "# mean category per ID\n",
    "df = df_all[\"category\"].unstack(\"id\").resample(\"1m\", level=\"date\").mean()\n",
    "# filter only the active ones\n",
    "df_mean = df.diff().abs().mean()\n",
    "df = df.loc[:, (df_mean > .1)]\n",
    "df.columns = df.columns.map(lambda c: f\"{c} {id_2_name[c]}\")\n",
    "df[\"all\"] = df.mean(axis=1)\n",
    "#df[\"dash\"] = \n",
    "df.plot(\n",
    "    title=\"Mean \\\"category\\\" per month and station (selection) (1: <= 10, 2: >10, 3: >30, 4: >50)\",\n",
    "    labels={\"value\": \"category\", \"id\": \"parking space\"},\n",
    "    color_discrete_sequence=df.columns.map(lambda n: id_2_color[n[:6]]),\n",
    "    # TODO: this is not working as expected\n",
    "    # line_dash_sequence=df.columns.map(lambda n: \"dot\" if n == \"all\" else \"solid\").to_list(),\n",
    ")"
   ]
  },
  {
   "cell_type": "markdown",
   "id": "43a483b9",
   "metadata": {},
   "source": [
    "# analysis of changes"
   ]
  },
  {
   "cell_type": "code",
   "execution_count": null,
   "id": "41c924b5",
   "metadata": {},
   "outputs": [],
   "source": [
    "# average CHANGES \n",
    "df = df_all.droplevel(\"name\")[\"category\"].unstack(\"id\").resample(\"1h\").mean().diff().abs()\n",
    "df = (df#.mean(axis=1)\n",
    ".resample(\"1w\").mean()\n",
    ").iloc[1:-1] # drop first and last incomplete buckets\n",
    "df.columns = df.columns.map(lambda c: f\"{c} {id_2_name[c]}\")\n",
    "df.plot.bar(\n",
    "    title=\"Changes of \\\"category\\\" from one hour to the next per week and station\",\n",
    "    labels={\"value\": \"changes\", \"id\": \"parking space\"},\n",
    "    color_discrete_sequence=df.columns.map(lambda n: id_2_color[n[:6]]),\n",
    ")"
   ]
  },
  {
   "cell_type": "code",
   "execution_count": null,
   "id": "4f062bb2",
   "metadata": {},
   "outputs": [],
   "source": [
    "df = df_all.droplevel(\"name\")[\"category\"].unstack(\"id\").resample(\"30min\").mean().diff().abs()\n",
    "df[\"hour\"] = df.index.get_level_values(\"date\").hour\n",
    "df = df.groupby(\"hour\").mean()\n",
    "df.columns = df.columns.map(lambda c: f\"{c} {id_2_name[c]}\")\n",
    "df.plot.bar(\n",
    "    title=\"Changes of \\\"category\\\" from one 30 minutes to the next per hour-of-day and station\",\n",
    "    labels={\"value\": \"changes\", \"id\": \"parking space\", \"hour\": \"hour of day\"},\n",
    "    color_discrete_sequence=df.columns.map(lambda n: id_2_color[n[:6]]),\n",
    ")\n"
   ]
  },
  {
   "cell_type": "code",
   "execution_count": null,
   "id": "dfdea4cf",
   "metadata": {},
   "outputs": [],
   "source": [
    "def get_per_hour(min_date, max_date):\n",
    "    df = df_all.droplevel(\"name\")[\"category\"]\n",
    "    df = df[df.index.get_level_values(\"date\") >= min_date]\n",
    "    df = df[df.index.get_level_values(\"date\") < max_date]\n",
    "    df = df.unstack(\"id\").resample(\"30min\").mean().diff().abs()\n",
    "    df[\"hour\"] = df.index.get_level_values(\"date\").hour\n",
    "    df[\"weekday\"] = df.index.get_level_values(\"date\").strftime(\"%w %A\")\n",
    "    df = df.groupby([\"hour\", \"weekday\"]).mean()\n",
    "    df = df.mean(axis=1).unstack(\"weekday\")\n",
    "    #df.columns = df.columns.map(lambda c: f\"{c} {id_2_name[c]}\")\n",
    "    return df\n",
    "\n",
    "dfs = [\n",
    "    get_per_hour(datetime.datetime(2020, 1, 1), datetime.datetime(2020, 4, 1)),\n",
    "    get_per_hour(datetime.datetime(2020, 4, 1), datetime.datetime(2020, 7, 1)),\n",
    "    get_per_hour(datetime.datetime(2020, 7, 1), datetime.datetime(2020, 10, 1)),\n",
    "    get_per_hour(datetime.datetime(2020, 10, 1), datetime.datetime(2021, 1, 1)),\n",
    "    get_per_hour(datetime.datetime(2021, 1, 1), datetime.datetime(2021, 4, 1)),\n",
    "    get_per_hour(datetime.datetime(2021, 4, 1), datetime.datetime(2021, 7, 1)),\n",
    "    get_per_hour(datetime.datetime(2021, 7, 1), datetime.datetime(2021, 10, 1)),\n",
    "    get_per_hour(datetime.datetime(2020, 1, 1), datetime.datetime(2021, 10, 1)),\n",
    "]\n",
    "#get_per_hour(datetime.datetime(2020, 1, 1), datetime.datetime(2020, 4, 1))        "
   ]
  },
  {
   "cell_type": "code",
   "execution_count": null,
   "id": "6b8989f3",
   "metadata": {},
   "outputs": [],
   "source": [
    "fig = make_subplots(\n",
    "    rows=2, cols=4,\n",
    "    vertical_spacing=0.12,\n",
    "    horizontal_spacing=0.01,\n",
    "    shared_yaxes=\"all\",\n",
    "    subplot_titles=[\n",
    "        \"2020 Q1\", \"2020 Q2\", \"2020 Q3\", \"2020 Q4\", \"2021 Q1\", \"2021 Q2\", \"2021 Q3\", \n",
    "        \"all (2020 Q1 - 2021 Q3)\"\n",
    "    ],\n",
    ")\n",
    "fig.update_layout(\n",
    "    title=\"Activity per hour-of-day and weekday, for each quarter of year\", \n",
    "    height=700,\n",
    ")\n",
    "for i, df in enumerate(dfs):\n",
    "    for trace in df.plot(\n",
    "        color_discrete_sequence=[\"#777\", \"#c66\", \"#6c6\", \"#66c\", \"#6cc\", \"#cc6\", \"#ccc\"],\n",
    "    ).data:\n",
    "        if i != 0:\n",
    "            trace.showlegend = False\n",
    "        fig.add_trace(trace, row=1+i // 4, col=1+i % 4)\n",
    "fig"
   ]
  },
  {
   "cell_type": "code",
   "execution_count": null,
   "id": "9162454c",
   "metadata": {},
   "outputs": [],
   "source": [
    "\n",
    "df = df_all.droplevel(\"name\")[\"category\"].unstack(\"id\").resample(\"1h\").mean().diff().abs()\n",
    "df = (df#.mean(axis=1)\n",
    ".resample(\"1w\").mean()\n",
    ").iloc[1:-1] # drop first and last incomplete buckets\n",
    "df.columns = df.columns.map(lambda c: f\"{c} {id_2_name[c]}\")\n",
    "df.plot.bar(\n",
    "    title=\"Changes of \\\"category\\\" from one hour to the next per week and station\",\n",
    "    labels={\"value\": \"changes\", \"id\": \"parking space\"},\n",
    "    color_discrete_sequence=df.columns.map(lambda n: id_2_color[n[:6]]),\n",
    ")"
   ]
  },
  {
   "cell_type": "markdown",
   "id": "9e560925",
   "metadata": {},
   "source": [
    "# percentage of each parking category per day"
   ]
  },
  {
   "cell_type": "code",
   "execution_count": null,
   "id": "457da2fe",
   "metadata": {},
   "outputs": [],
   "source": [
    "df = (\n",
    "    df_all[df_all[\"valid\"] == 1].droplevel(\"name\")\n",
    "    .reset_index().set_index([\"date\", \"id\", \"category\"])\n",
    "    [\"listed\"].unstack(\"category\").replace(np.nan, 0)\n",
    "    .resample(\"1d\", level=\"date\").mean() \n",
    "    * 100\n",
    ")\n",
    "df.columns = [\"<= 10\", \"> 10\", \"> 30\", \"> 50\"]\n",
    "df.plot(\n",
    "    title=\"Percentage of each \\\"category\\\" per day\",\n",
    "    labels={\"value\": \"percent of category\", \"variable\": \"category\"},\n",
    "    color_discrete_sequence=[\"#a00\", \"#850\", \"#680\", \"#3a0\"],\n",
    ")"
   ]
  },
  {
   "cell_type": "code",
   "execution_count": null,
   "id": "81dddec4",
   "metadata": {},
   "outputs": [],
   "source": [
    "datetime.datetime(2020, 3, 16).weekday()"
   ]
  },
  {
   "cell_type": "code",
   "execution_count": null,
   "id": "5528eb46",
   "metadata": {},
   "outputs": [],
   "source": [
    "df[\"day\"] = df.index.strftime(\"%w %A\")\n",
    "df.groupby(\"day\").mean().plot()"
   ]
  },
  {
   "cell_type": "markdown",
   "id": "701bbec7",
   "metadata": {},
   "source": [
    "# estimation of percentage occupied\n",
    "Does not really work"
   ]
  },
  {
   "cell_type": "code",
   "execution_count": null,
   "id": "0d430552",
   "metadata": {},
   "outputs": [],
   "source": [
    "# mean estimated üercentage per ID\n",
    "df = (df_all[\"num_free\"] / df_all[\"mean_capacity\"] * 100).unstack(\"id\").resample(\"1d\", level=\"date\").mean()\n",
    "df_mean = df.diff().abs().mean()\n",
    "df = df.loc[:, (df_mean > .15)]\n",
    "df.columns = df.columns.map(lambda c: f\"{c} {id_2_name[c]}\")\n",
    "df.plot()"
   ]
  },
  {
   "cell_type": "code",
   "execution_count": null,
   "id": "b0b73e54",
   "metadata": {},
   "outputs": [],
   "source": [
    "MAPPING = {1: 5, 2: 15, 3: 35, 4: 55}\n",
    "df = df_all[\"category\"][~np.isnan(df_all[\"category\"])].astype(int).map(lambda c: MAPPING[c])\n",
    "df = df.unstack(\"id\").resample(\"1d\", level=\"date\").mean()\n",
    "df = df.div(df.columns.map(lambda i: id_2_capacity[i]), axis=1) * 100.\n",
    "df = df.loc[:, df.std() > 5]\n",
    "df = df.sort_index(axis=1)\n",
    "df.columns = df.columns.map(lambda c: f\"{c} {id_2_name[c]}\")\n",
    "df.plot()"
   ]
  },
  {
   "cell_type": "markdown",
   "id": "7a1955a0",
   "metadata": {},
   "source": [
    "# capacity"
   ]
  },
  {
   "cell_type": "code",
   "execution_count": null,
   "id": "6856167c",
   "metadata": {},
   "outputs": [],
   "source": [
    "# mean capacity per ID\n",
    "df = df_all[\"capacity\"].unstack(\"id\").resample(\"1d\", level=\"date\").mean()\n",
    "df_mean = df.diff().abs().mean()\n",
    "df = df.loc[:, (df_mean > .1) & (df_mean < 10)]\n",
    "df.columns = df.columns.map(lambda c: f\"{c} {id_2_name[c]}\")\n",
    "df.plot(\n",
    "    title=\"Capacity per day and station (selection)\",\n",
    "    labels={\"value\": \"capacity\", \"id\": \"parking space\"},\n",
    "    color_discrete_sequence=df.columns.map(lambda n: id_2_color[n[:6]]),\n",
    "    height=600,\n",
    ")"
   ]
  },
  {
   "cell_type": "code",
   "execution_count": null,
   "id": "0bb43fd2",
   "metadata": {},
   "outputs": [],
   "source": [
    "id_2_capacity[\"100084\"]"
   ]
  },
  {
   "cell_type": "code",
   "execution_count": null,
   "id": "d08c1477",
   "metadata": {},
   "outputs": [],
   "source": [
    "df = df_all[df_all.index.get_level_values(\"id\") == \"100103\"][\"capacity\"].resample(\"30min\", level=\"date\").mean()\n",
    "df.plot()"
   ]
  },
  {
   "cell_type": "code",
   "execution_count": null,
   "id": "25fa2784",
   "metadata": {},
   "outputs": [],
   "source": [
    "# average CHANGES \n",
    "\n",
    "df = df_all.droplevel(\"name\")[\"category\"].unstack(\"id\").resample(\"1h\").mean().diff().abs()\n",
    "(df#.mean(axis=1)\n",
    ".resample(\"1w\").mean().plot()\n",
    ")"
   ]
  },
  {
   "cell_type": "markdown",
   "id": "fb3ea5af",
   "metadata": {},
   "source": [
    "## plot individal"
   ]
  },
  {
   "cell_type": "code",
   "execution_count": null,
   "id": "93591305",
   "metadata": {},
   "outputs": [],
   "source": [
    "df = df_all[df_all.index.get_level_values(\"id\") == \"103129\"]\n",
    "df[\"valid\"].resample(\"1d\", level=\"date\").mean().plot()"
   ]
  },
  {
   "cell_type": "code",
   "execution_count": null,
   "id": "c7a36535",
   "metadata": {},
   "outputs": [],
   "source": []
  },
  {
   "cell_type": "code",
   "execution_count": null,
   "id": "4ecd85ef",
   "metadata": {},
   "outputs": [],
   "source": []
  }
 ],
 "metadata": {
  "kernelspec": {
   "display_name": "Python 3",
   "language": "python",
   "name": "python3"
  },
  "language_info": {
   "codemirror_mode": {
    "name": "ipython",
    "version": 3
   },
   "file_extension": ".py",
   "mimetype": "text/x-python",
   "name": "python",
   "nbconvert_exporter": "python",
   "pygments_lexer": "ipython3",
   "version": "3.6.9"
  }
 },
 "nbformat": 4,
 "nbformat_minor": 5
}
