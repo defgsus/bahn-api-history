{
 "cells": [
  {
   "cell_type": "code",
   "execution_count": null,
   "id": "a7c81e45",
   "metadata": {},
   "outputs": [],
   "source": [
    "import sys\n",
    "sys.path.append(\"..\")"
   ]
  },
  {
   "cell_type": "code",
   "execution_count": null,
   "id": "e4c069b0",
   "metadata": {},
   "outputs": [],
   "source": [
    "from src.elevators import *\n",
    "pd.options.plotting.backend = \"plotly\""
   ]
  },
  {
   "cell_type": "code",
   "execution_count": null,
   "id": "2d273e38",
   "metadata": {},
   "outputs": [],
   "source": [
    "# read sum of snapshots/listed/active per day and id\n",
    "df_all = elevators_per_day()\n",
    "df_all[\"listed_f\"] = df_all[\"listed\"] / df_all[\"snapshots\"]\n",
    "df_all[\"active_f\"] = df_all[\"active\"] / df_all[\"snapshots\"]\n",
    "df_all[\"inactive_f\"] = df_all[\"inactive\"] / df_all[\"snapshots\"]"
   ]
  },
  {
   "cell_type": "code",
   "execution_count": null,
   "id": "6feae82f",
   "metadata": {},
   "outputs": [],
   "source": [
    "# get the defect machines per day\n",
    "dfs = []\n",
    "for mark in (0.2, 0.4, 0.6, 0.8, 1.):\n",
    "    df = df_all[df_all[\"inactive_f\"] >= mark]\n",
    "    dates = df.index.get_level_values(\"date\").unique().sort_values()\n",
    "    df_d = pd.DataFrame(\n",
    "        [df[df.index.get_level_values(\"date\") == d].shape[0] for d in dates],\n",
    "        index=dates,\n",
    "        columns=[f\"{mark*100:.0f}%\"]\n",
    "    )\n",
    "    dfs.append(df_d)\n",
    "df = pd.concat(dfs, axis=1)"
   ]
  },
  {
   "cell_type": "code",
   "execution_count": null,
   "id": "174b9f6b",
   "metadata": {},
   "outputs": [],
   "source": [
    "df.plot(\n",
    "    title=\"Number of inactive elevators/escaltors per day\", \n",
    "    labels={\n",
    "        \"variable\": \"Percentage inactive per day\", \n",
    "        \"value\": \"Number of inactive machines\",\n",
    "    },\n",
    "    color_discrete_sequence=[\"#0d0\", \"#3b0\", \"#690\", \"#860\", \"#c30\"]\n",
    ")"
   ]
  }
 ],
 "metadata": {
  "kernelspec": {
   "display_name": "Python 3",
   "language": "python",
   "name": "python3"
  },
  "language_info": {
   "codemirror_mode": {
    "name": "ipython",
    "version": 3
   },
   "file_extension": ".py",
   "mimetype": "text/x-python",
   "name": "python",
   "nbconvert_exporter": "python",
   "pygments_lexer": "ipython3",
   "version": "3.6.9"
  }
 },
 "nbformat": 4,
 "nbformat_minor": 5
}
