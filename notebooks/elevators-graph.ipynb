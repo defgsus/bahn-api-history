{
 "cells": [
  {
   "cell_type": "code",
   "execution_count": null,
   "id": "ffbcb431",
   "metadata": {},
   "outputs": [],
   "source": [
    "import sys\n",
    "sys.path.append(\"..\")"
   ]
  },
  {
   "cell_type": "code",
   "execution_count": null,
   "id": "6b521bc9",
   "metadata": {},
   "outputs": [],
   "source": [
    "import plotly.express as px\n",
    "from plotly.subplots import make_subplots\n",
    "\n",
    "from src.elevators import *\n",
    "from src.mapper import *\n",
    "\n",
    "pd.options.plotting.backend = \"plotly\""
   ]
  },
  {
   "cell_type": "code",
   "execution_count": null,
   "id": "70a4a283",
   "metadata": {},
   "outputs": [],
   "source": [
    "#station_mapper = ObjectMapper(\"stations\")\n",
    "#elevators_mapper = ElevatorsMapper()\n",
    "#station_mapper(elevators_mapper(\"10001649\")[\"stationnumber\"])"
   ]
  },
  {
   "cell_type": "code",
   "execution_count": null,
   "id": "0cbfe0e9",
   "metadata": {},
   "outputs": [],
   "source": [
    "# read sum of snapshots/listed/active per day and id\n",
    "df_all = elevators_per_day(caching=True)#\"write\")\n",
    "df_all = df_all[df_all.index.get_level_values(\"date\") >= \"2020-01-27\"]\n",
    "df_all[\"listed_f\"] = df_all[\"listed\"] / df_all[\"snapshots\"]\n",
    "df_all[\"active_f\"] = df_all[\"active\"] / df_all[\"snapshots\"]\n",
    "df_all[\"inactive_f\"] = df_all[\"inactive\"] / df_all[\"snapshots\"]\n",
    "\n",
    "STRING_FIELDS = [n for n, dt in df_all.dtypes.iteritems() if isinstance(dt, np.object)]\n",
    "for f in STRING_FIELDS:\n",
    "    df_all[f] = df_all[f].replace(np.nan, \"-\")#.astype(\"category\")\n",
    "\n",
    "df_all_listed = df_all[df_all[\"listed\"] > 0]\n",
    "df_all"
   ]
  },
  {
   "cell_type": "code",
   "execution_count": null,
   "id": "4c131240",
   "metadata": {},
   "outputs": [],
   "source": [
    "def plot_defects(df_all: pd.DataFrame):\n",
    "    # get the defect machines per day\n",
    "    dfs = []\n",
    "    for mark in (0.2, 0.4, 0.6, 0.8, 1.):\n",
    "        df = df_all[df_all[\"inactive_f\"] >= mark]\n",
    "        dates = df.index.get_level_values(\"date\").unique().sort_values()\n",
    "        df_d = pd.DataFrame(\n",
    "            [df[df.index.get_level_values(\"date\") == d].shape[0] for d in dates],\n",
    "            index=dates,\n",
    "            columns=[f\"{mark*100:.0f}%\"]\n",
    "        )\n",
    "        dfs.append(df_d)\n",
    "    df = pd.concat(dfs, axis=1)\n",
    "    \n",
    "    return df.plot(\n",
    "        title=\"Number of inactive elevators/escaltors per day\", \n",
    "        labels={\n",
    "            \"variable\": \"Percentage inactive per day\", \n",
    "            \"value\": \"Number of inactive machines\",\n",
    "        },\n",
    "        color_discrete_sequence=[\"#0d0\", \"#3b0\", \"#690\", \"#860\", \"#c30\"]\n",
    "    )"
   ]
  },
  {
   "cell_type": "code",
   "execution_count": null,
   "id": "8c374245",
   "metadata": {},
   "outputs": [],
   "source": [
    "plot_defects(df_all)"
   ]
  },
  {
   "cell_type": "code",
   "execution_count": null,
   "id": "55f8d87f",
   "metadata": {},
   "outputs": [],
   "source": [
    "df_all[\"listed\"].unstack(\"id\").clip(0, 1).sum(axis=1).plot(\n",
    "    title=\"Number of listed machines per day\",\n",
    "    labels={\"value\": \"num listed machines\"},\n",
    ")"
   ]
  },
  {
   "cell_type": "code",
   "execution_count": null,
   "id": "72a5af98",
   "metadata": {},
   "outputs": [],
   "source": [
    "df_all[df_all[\"region\"] == \"-\"][\"snapshots\"].resample(\"1d\", level=\"date\").mean().plot()"
   ]
  },
  {
   "cell_type": "code",
   "execution_count": null,
   "id": "134f7e81",
   "metadata": {},
   "outputs": [],
   "source": [
    "SPLIT = \"bearer\"\n",
    "(df_all_listed.reset_index().set_index([\"date\", \"id\", SPLIT])\n",
    " [\"active_f\"].unstack([\"id\", SPLIT]).clip(0, 1)\n",
    " .groupby(SPLIT, axis=1).mean()\n",
    " .resample(\"1d\").mean().plot()#.bar(barmode=\"group\")\n",
    ")"
   ]
  },
  {
   "cell_type": "code",
   "execution_count": null,
   "id": "5abf5f79",
   "metadata": {},
   "outputs": [],
   "source": [
    "df_all.reset_index().groupby(\"bearer\")[[\"id\", \"zentrale\"]].describe()#.sort_values(\"unique\")"
   ]
  },
  {
   "cell_type": "code",
   "execution_count": null,
   "id": "92eeb70e",
   "metadata": {},
   "outputs": [],
   "source": [
    "df = df_all_listed[\"active_f\"].unstack(\"id\")\n",
    "\n",
    "df_mean = df[df.index.year == 2021]\n",
    "df_mean = df_mean[df_mean.index.month >= 7].mean()\n",
    "df = df.sort_index(axis=1, key=lambda c: df_mean[c])\n",
    "\n",
    "px.imshow(df.T, height=1300)"
   ]
  },
  {
   "cell_type": "code",
   "execution_count": null,
   "id": "c5dcba6e",
   "metadata": {},
   "outputs": [],
   "source": [
    "124.9-124*.64"
   ]
  },
  {
   "cell_type": "code",
   "execution_count": null,
   "id": "0a82615c",
   "metadata": {},
   "outputs": [],
   "source": [
    "#df = df_all[df_all[\"bearer\"] == \"Verband Region Stuttgart\"]\n",
    "SPLIT = \"bearer\" \n",
    "num_devices = df_all_listed.reset_index().groupby(SPLIT)[\"id\"].describe()[\"unique\"]\n",
    "df = df_all_listed.reset_index().set_index([\"date\", \"id\", SPLIT])\n",
    "df = df[\"active_f\"].unstack(SPLIT) * 100.\n",
    "df = df.resample(\"1d\", level=\"date\").mean()\n",
    "df_mean = df[df.index.year == 2021]\n",
    "df_mean = df_mean[df_mean.index.month >= 6].mean()\n",
    "df = df.sort_index(axis=1, key=lambda c: df_mean[c])\n",
    "#df.columns = df.columns.astype(str)\n",
    "df.columns = df.columns.map(lambda c: f\"{c} ({num_devices[c]})\")\n",
    "px.imshow(\n",
    "    df.T,\n",
    "    title=\"Mean activity per day and \\\"Aufgabenträger\\\"\",\n",
    "    labels={\"bearer\": \"Aufgabenträger\"},\n",
    "    height=700,\n",
    ")"
   ]
  },
  {
   "cell_type": "code",
   "execution_count": null,
   "id": "c6e405fc",
   "metadata": {},
   "outputs": [],
   "source": [
    "#df_all.reset_index().set_index([\"date\", \"id\", \"region\"])[\"active\"].unstack(\"region\").resample(\"1w\", level=\"date\").mean().plot()\n",
    "df = df_all.groupby(\"operator\").sum()\n",
    "(df[\"active\"] / df[\"snapshots\"]).sort_values().plot.bar()"
   ]
  },
  {
   "cell_type": "code",
   "execution_count": null,
   "id": "8e8cd1ee",
   "metadata": {},
   "outputs": [],
   "source": [
    "#plot_defects(df_all[df_all[\"operator\"] == \"DB Station&Service\"])\n",
    "plot_defects(df_all[df_all[\"operator\"] == \"-\"])"
   ]
  },
  {
   "cell_type": "markdown",
   "id": "9ceacdff",
   "metadata": {},
   "source": [
    "# geo-plot of difference in activity"
   ]
  },
  {
   "cell_type": "code",
   "execution_count": null,
   "id": "a7fc00bc",
   "metadata": {},
   "outputs": [],
   "source": [
    "def geo_df(df_all: pd.DataFrame, label: str = \"bearer\") -> pd.DataFrame:\n",
    "    df = df_all[df_all[\"geo_coords\"] != \"-\"]\n",
    "    \n",
    "    label_mapping = df.reset_index().groupby(\"geo_coords\")[label].unique()\n",
    "    \n",
    "    df = df.groupby(\"geo_coords\").mean()\n",
    "    df[\"label\"] = label_mapping.map(lambda c: c[0])\n",
    "    df[\"lat\"] = df.index.map(lambda i: i[1] if i[1] > 30 else i[0])\n",
    "    df[\"lon\"] = df.index.map(lambda i: i[0] if i[0] < 30 else i[1])\n",
    "    #df[\"city\"] = group[\"\"]\n",
    "    return df#.reset_index().set_index([\"lat\", \"lon\"])\n",
    "\n",
    "date = df_all_listed.index.get_level_values(\"date\")\n",
    "df_1 = geo_df(df_all_listed[(date >= \"2021-01\") & (date < \"2021-6\")])\n",
    "df_2 = geo_df(df_all_listed[(date >= \"2021-06\") & (date < \"2022-01\")])\n",
    "df = df_2\n",
    "df[\"active_change\"] = 100 * (df_2[\"active_f\"] - df_1[\"active_f\"])\n",
    "\n",
    "df[\"size\"] = 10#(df[\"active_f\"].replace(np.nan, 0) - df[\"active_f\"].min())# / (df[\"active_f\"].max() - df[\"active_f\"].min())\n",
    "df.sort_values(\"active_change\", inplace=True, ascending=False)\n",
    "\n",
    "fig = px.scatter_geo(\n",
    "    df,\n",
    "    lat=\"lat\", lon=\"lon\",\n",
    "    color=\"active_change\", \n",
    "    opacity=.001 * df[\"active_change\"].replace(np.nan, 0).abs(),\n",
    "    size_max=40,\n",
    "    size=\"size\",\n",
    "    hover_data=[\"label\", \"active_f\"],\n",
    "    scope=\"europe\",\n",
    "    fitbounds=\"locations\",\n",
    "    color_continuous_scale=[\"#c00\", \"#ccc\", \"#0c0\"],\n",
    "    labels={\"active_change\": \"change of activity %\"},\n",
    "    height=1000,\n",
    "    title=\"Change of mean elevator activity between first and second half of 2021\",\n",
    ")\n",
    "fig"
   ]
  },
  {
   "cell_type": "code",
   "execution_count": null,
   "id": "f2fd84a7",
   "metadata": {
    "scrolled": false
   },
   "outputs": [],
   "source": [
    "df = df_all_listed#[df_all_listed[\"bearer\"] == \"Verband Region Stuttgart\"]\n",
    "date = df.index.get_level_values(\"date\")\n",
    "df = geo_df(df[(date >= \"2021-06\") & (date < \"2021-11\")], label=\"station_name\")\n",
    "\n",
    "df[\"size\"] = 10#(df[\"active_f\"].replace(np.nan, 0) - df[\"active_f\"].min())# / (df[\"active_f\"].max() - df[\"active_f\"].min())\n",
    "df.sort_values(\"active_f\", inplace=True, ascending=False)\n",
    "\n",
    "fig = px.scatter_mapbox(\n",
    "    df,\n",
    "    #df[df[\"active_f\"] < 0.6],\n",
    "    lat=\"lat\", lon=\"lon\",\n",
    "    color=\"active_f\", \n",
    "    opacity=.5 * (1. - .5*df[\"active_f\"].replace(np.nan, 0)),\n",
    "    size_max=40,\n",
    "    size=\"size\",\n",
    "    hover_data=[\"label\", \"active_f\"],\n",
    "    #scope=\"europe\",\n",
    "    #fitbounds=\"locations\",\n",
    "    mapbox_style=\"open-street-map\",\n",
    "    color_continuous_scale=[\"#c00\", \"#0c0\"],\n",
    "    range_color=[0, 1],\n",
    "    labels={\"active_change\": \"change of activity %\"},\n",
    "    height=1000,\n",
    "    title=\"Change of mean elevator activity between first and second half of 2021\",\n",
    ")\n",
    "\n",
    "fig"
   ]
  },
  {
   "cell_type": "code",
   "execution_count": null,
   "id": "dcb4d228",
   "metadata": {},
   "outputs": [],
   "source": [
    "[n for n in df_all[\"station_name\"].unique() if \"Stuttgart\" in n]"
   ]
  },
  {
   "cell_type": "code",
   "execution_count": null,
   "id": "94cf4da1",
   "metadata": {},
   "outputs": [],
   "source": [
    "df_all[df_all[\"station_name\"] == \"Stuttgart Hbf\"]"
   ]
  }
 ],
 "metadata": {
  "kernelspec": {
   "display_name": "Python 3",
   "language": "python",
   "name": "python3"
  },
  "language_info": {
   "codemirror_mode": {
    "name": "ipython",
    "version": 3
   },
   "file_extension": ".py",
   "mimetype": "text/x-python",
   "name": "python",
   "nbconvert_exporter": "python",
   "pygments_lexer": "ipython3",
   "version": "3.6.9"
  }
 },
 "nbformat": 4,
 "nbformat_minor": 5
}
