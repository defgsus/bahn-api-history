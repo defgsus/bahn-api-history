{
 "cells": [
  {
   "cell_type": "code",
   "execution_count": null,
   "id": "a7c81e45",
   "metadata": {},
   "outputs": [],
   "source": [
    "import sys\n",
    "sys.path.append(\"..\")"
   ]
  },
  {
   "cell_type": "code",
   "execution_count": null,
   "id": "e4c069b0",
   "metadata": {},
   "outputs": [],
   "source": [
    "import pandas as pd\n",
    "import numpy as np\n",
    "pd.options.plotting.backend = \"plotly\"\n",
    "\n",
    "from src.changelog_reader import ChangelogReader"
   ]
  },
  {
   "cell_type": "code",
   "execution_count": null,
   "id": "2d273e38",
   "metadata": {},
   "outputs": [],
   "source": [
    "changes_per_date_and_id = dict()\n",
    "for changelog_file, dates_file in ChangelogReader.get_changelog_files(\"stations\"):\n",
    "    reader = ChangelogReader(changelog_file, dates_file)\n",
    "    for obj_id, changelogs in reader.data.items():\n",
    "        for cl in changelogs:\n",
    "            if \"changes\" in cl:\n",
    "                if \"replace\" in cl[\"changes\"] or \"add\" in cl[\"changes\"] or \"remove\" in cl[\"changes\"]:\n",
    "                    key = (obj_id, cl[\"date\"])\n",
    "                    changes_per_date_and_id[key] = changes_per_date_and_id.get(key, 0) + 1"
   ]
  },
  {
   "cell_type": "code",
   "execution_count": null,
   "id": "d02ba4ae",
   "metadata": {},
   "outputs": [],
   "source": [
    "df = pd.DataFrame([{\"date\": key[1], \"changes\": value} for key, value in changes_per_date_and_id.items()])\n",
    "df[\"date\"] = pd.to_datetime(df[\"date\"])\n",
    "df.set_index(\"date\", inplace=True)\n",
    "df"
   ]
  },
  {
   "cell_type": "code",
   "execution_count": null,
   "id": "174b9f6b",
   "metadata": {},
   "outputs": [],
   "source": [
    "df_changes_per_day = df.resample(\"1d\").sum()\n",
    "df_changes_per_day.plot.bar(\n",
    "    title=\"Number of changes to station data per day\", \n",
    "    labels={\n",
    "        \"value\": \"Number of changes (logarithmic)\",\n",
    "    },\n",
    "    log_y=True,\n",
    ")"
   ]
  },
  {
   "cell_type": "code",
   "execution_count": null,
   "id": "11f933e2",
   "metadata": {},
   "outputs": [],
   "source": [
    "stations_per_date = dict()\n",
    "for obj_id, date in changes_per_date_and_id:\n",
    "    if date not in stations_per_date:\n",
    "        stations_per_date[date] = set()\n",
    "    stations_per_date[date].add(obj_id)"
   ]
  },
  {
   "cell_type": "code",
   "execution_count": null,
   "id": "26acb3bb",
   "metadata": {},
   "outputs": [],
   "source": [
    "df = pd.DataFrame([{\"date\": key, \"stations\": len(value)} for key, value in stations_per_date.items()])\n",
    "df[\"date\"] = pd.to_datetime(df[\"date\"])\n",
    "df.set_index(\"date\", inplace=True)\n",
    "df"
   ]
  },
  {
   "cell_type": "code",
   "execution_count": null,
   "id": "499e25fe",
   "metadata": {},
   "outputs": [],
   "source": [
    "df_stations_per_day = df.resample(\"1d\").sum()\n",
    "df_stations_per_day.plot.bar(\n",
    "    title=\"Number of stations that are edited per day\", \n",
    "    labels={\n",
    "        \"value\": \"Number of stations (logarithmic)\",\n",
    "    },\n",
    "    log_y=True,\n",
    "    barmode=\"group\",\n",
    ")"
   ]
  },
  {
   "cell_type": "code",
   "execution_count": null,
   "id": "0fa40365",
   "metadata": {},
   "outputs": [],
   "source": [
    "# dataframes are equal? \n",
    "all(df_changes_per_day == df_stations_per_day)"
   ]
  },
  {
   "cell_type": "code",
   "execution_count": null,
   "id": "03f66f82",
   "metadata": {},
   "outputs": [],
   "source": [
    "INTERESTING_DATES = (\n",
    "    \"2020-06-03\",\n",
    "    \"2021-06-03\",\n",
    "    \"2021-06-04\",\n",
    "    \"2021-06-08\",\n",
    "    \"2021-06-17\",\n",
    "    \"2021-06-26\",\n",
    "    \"2021-07-02\",\n",
    ")\n",
    "paths_per_date = dict()\n",
    "for changelog_file, dates_file in ChangelogReader.get_changelog_files(\"stations\"):\n",
    "    reader = ChangelogReader(changelog_file, dates_file)\n",
    "    for obj_id, changelogs in reader.data.items():\n",
    "        for cl in changelogs:\n",
    "            key = cl[\"date\"][:10]\n",
    "            if key in INTERESTING_DATES:\n",
    "                paths_per_date.setdefault(key, {})\n",
    "                for change_type, changes in cl[\"changes\"].items():\n",
    "                    for c in changes:\n",
    "                        path_key = f\"{change_type} `{c['path']}`\".replace(\"0.\", \"\").replace(\"1.\", \"\").replace(\"2.\", \"\").replace(\"3.\", \"\")\n",
    "                        paths_per_date[key].setdefault(path_key, []).append(None if change_type == \"remove\" else str(c[\"value\"]))\n",
    "\n",
    "for date, paths in paths_per_date.items():\n",
    "    print(f\"- **`{date}`**\")\n",
    "    for path in sorted(paths, key=lambda k: -len(paths[k]))[:5]:\n",
    "        values = sorted(set(paths[path]))[:100]\n",
    "        print(f\"  - {len(paths[path])} x {path}\")"
   ]
  },
  {
   "cell_type": "code",
   "execution_count": null,
   "id": "7d225085",
   "metadata": {},
   "outputs": [],
   "source": [
    "from itertools import islice\n",
    "\n",
    "COMPARE_DATES = [\"2021-06-02\", \"2021-06-03\"]\n",
    "objects_compare = dict()\n",
    "for changelog_file, dates_file in ChangelogReader.get_changelog_files(\"stations\"):\n",
    "    reader = ChangelogReader(changelog_file, dates_file)\n",
    "    for obj_id in reader.object_ids():\n",
    "        found_dates = 0\n",
    "        for dt, obj in reader.iter_object_snapshots(obj_id):\n",
    "            if dt[:10] in COMPARE_DATES:\n",
    "                objects_compare.setdefault(obj_id, {})[dt[:10]] = obj\n",
    "                found_dates += 1\n",
    "                if found_dates == 2:\n",
    "                    break\n",
    "                \n",
    "for obj_id, versions in islice(objects_compare.items(), 0, 50):\n",
    "    if len(versions) == 2:\n",
    "        print(obj_id)\n",
    "        for key in sorted(versions):\n",
    "            print(\" \", key, versions[key][\"federalState\"])"
   ]
  },
  {
   "cell_type": "code",
   "execution_count": null,
   "id": "c7a36535",
   "metadata": {},
   "outputs": [],
   "source": []
  },
  {
   "cell_type": "code",
   "execution_count": null,
   "id": "4ecd85ef",
   "metadata": {},
   "outputs": [],
   "source": []
  }
 ],
 "metadata": {
  "kernelspec": {
   "display_name": "Python 3",
   "language": "python",
   "name": "python3"
  },
  "language_info": {
   "codemirror_mode": {
    "name": "ipython",
    "version": 3
   },
   "file_extension": ".py",
   "mimetype": "text/x-python",
   "name": "python",
   "nbconvert_exporter": "python",
   "pygments_lexer": "ipython3",
   "version": "3.6.9"
  }
 },
 "nbformat": 4,
 "nbformat_minor": 5
}
